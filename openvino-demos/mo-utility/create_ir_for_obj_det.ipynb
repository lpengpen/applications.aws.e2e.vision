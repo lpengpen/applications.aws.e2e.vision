{
 "cells": [
  {
   "cell_type": "markdown",
   "metadata": {},
   "source": [
    "## Example 3: Convert Object Detection models to OpenVINO IR"
   ]
  },
  {
   "cell_type": "markdown",
   "metadata": {},
   "source": [
    "This notebook shows how to convert Object Detection models to OpenVINO IR format.\n",
    "\n",
    "See list of supported models in ObjDet-SupportedModelList\n",
    "\n",
    "Following are the steps\n",
    "- Install necessary pip packages.\n",
    "- In AWS Sagemaker environment, remove few unused conda envs. This will ensure we have enought space for OpenVINO docker images.\n",
    "- Select a model from the supported list\n",
    "- Run the conversion"
   ]
  },
  {
   "cell_type": "markdown",
   "metadata": {},
   "source": [
    "### Install necessary pip packages"
   ]
  },
  {
   "cell_type": "code",
   "execution_count": null,
   "metadata": {},
   "outputs": [],
   "source": [
    "!pip3 install --upgrade pip\n",
    "!pip3 install -r requirements.txt"
   ]
  },
  {
   "cell_type": "markdown",
   "metadata": {},
   "source": [
    "### Removed few unused conda envs. "
   ]
  },
  {
   "cell_type": "code",
   "execution_count": null,
   "metadata": {},
   "outputs": [],
   "source": [
    "!bash remove-unused-conda-envs.sh"
   ]
  },
  {
   "cell_type": "markdown",
   "metadata": {},
   "source": [
    "##  Convert Object Detection models to OpenVINO IR"
   ]
  },
  {
   "cell_type": "code",
   "execution_count": null,
   "metadata": {},
   "outputs": [],
   "source": [
    "from ov_utils import create_ir\n",
    "import os"
   ]
  },
  {
   "cell_type": "markdown",
   "metadata": {},
   "source": [
    "### Provide below details:\n",
    "\n",
    "`bucket_name` - S3 bucket name with \"sagemaker\" as part of the name.\n",
    "Example: sagemaker-ir-creation\n",
    "\n",
    "`objdet_model_url` - Object detection model URL. See supported list in ObjDet-SupportedModelList\n",
    "\n",
    "`input_json` - Input json of the selected model. See ObjDet-SupportedModelList\n",
    "\n",
    "`precision_type` - Use either FP32 or FP16\n",
    "\n",
    "#### NOTE: If the bucket does not exist then it will be created.\n",
    "\n",
    "#### Example:\n",
    "```\n",
    "bucket_name = \"sagemaker-ir-creation\"\n",
    "objdet_model_url = \"http://download.tensorflow.org/models/object_detection/ssd_mobilenet_v1_coco_2018_01_28.tar.gz\"\n",
    "input_json = \"ssd_v2_support.json\"\n",
    "precision_type = \"FP32\"\n",
    "```"
   ]
  },
  {
   "cell_type": "code",
   "execution_count": null,
   "metadata": {},
   "outputs": [],
   "source": [
    "bucket_name = \"sagemaker-ir-creation\" # must have sagemaker as part of the name\n",
    "objdet_model_url = \"Pick-supported-model-url\"\n",
    "input_json = \"input_json\"\n",
    "precision_type = \"FP32\" # FP16 also supported"
   ]
  },
  {
   "cell_type": "markdown",
   "metadata": {},
   "source": [
    "#### Create IR params"
   ]
  },
  {
   "cell_type": "code",
   "execution_count": null,
   "metadata": {},
   "outputs": [],
   "source": [
    "model_name = objdet_model_url.split('/')[-1].replace('.tar.gz','')    \n",
    "output_dir = \"\".join([\"./\", model_name.replace('.','-'),\"-\",precision_type])\n",
    "create_ir_params = {\n",
    "    \"objdet_model_url\": objdet_model_url,\n",
    "    \"output_dir\": output_dir,\n",
    "    \"mo_params\": {\n",
    "        \"input_json\": input_json,\n",
    "        \"data_type\": precision_type,\n",
    "        \"model_name\": model_name\n",
    "    },\n",
    "    \"bucket_name\": bucket_name\n",
    "}"
   ]
  },
  {
   "cell_type": "markdown",
   "metadata": {},
   "source": [
    "### Start the IR creation and upload to S3."
   ]
  },
  {
   "cell_type": "code",
   "execution_count": null,
   "metadata": {},
   "outputs": [],
   "source": [
    "try:\n",
    "    create_ir(create_ir_params)\n",
    "    print (f\"IR files created for model:{model_name} and the same is uploaded in S3:{bucket_name}\")\n",
    "except Exception as err:\n",
    "    print(f\"FAILED: Please find the error details below:\")\n",
    "    print(err)"
   ]
  }
 ],
 "metadata": {
  "kernelspec": {
   "display_name": "conda_python3",
   "language": "python",
   "name": "conda_python3"
  },
  "language_info": {
   "codemirror_mode": {
    "name": "ipython",
    "version": 3
   },
   "file_extension": ".py",
   "mimetype": "text/x-python",
   "name": "python",
   "nbconvert_exporter": "python",
   "pygments_lexer": "ipython3",
   "version": "3.6.13"
  }
 },
 "nbformat": 4,
 "nbformat_minor": 4
}
